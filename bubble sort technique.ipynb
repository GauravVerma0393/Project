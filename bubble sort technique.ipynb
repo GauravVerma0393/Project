{
 "cells": [
  {
   "cell_type": "code",
   "execution_count": 3,
   "id": "a95904e5",
   "metadata": {},
   "outputs": [
    {
     "name": "stdout",
     "output_type": "stream",
     "text": [
      "array('i', [12, 23, 24, 43, 45, 56, 67, 76, 87, 89])\n"
     ]
    }
   ],
   "source": [
    "#Arrange an array in assending or descending order by 'bubble sort' technique.\n",
    "#assending order:\n",
    "\n",
    "import array\n",
    "from array import *\n",
    "def pairwise_swap(array):\n",
    "    n=len(arr)\n",
    "    for i in range(0,n-1):\n",
    "        for j in range(0,n-i-1):\n",
    "            if arr[j]>arr[j+1]:\n",
    "                arr[j],arr[j+1]=arr[j+1],arr[j]\n",
    "arr=array('i',[24,56,76,12,45,67,87,43,23,89])\n",
    "pairwise_swap(arr)\n",
    "print(arr)"
   ]
  },
  {
   "cell_type": "code",
   "execution_count": 6,
   "id": "4774b806",
   "metadata": {},
   "outputs": [
    {
     "name": "stdout",
     "output_type": "stream",
     "text": [
      "array('i', [89, 87, 76, 67, 56, 45, 43, 24, 23, 12])\n"
     ]
    }
   ],
   "source": [
    "#descending order:\n",
    "import array\n",
    "from array import *\n",
    "def pairwise_swap(array):\n",
    "    n=len(arr)\n",
    "    for i in range(0,n-1):\n",
    "        for j in range(0,n-i-1):\n",
    "            if arr[j]<arr[j+1]:\n",
    "                arr[j],arr[j+1]=arr[j+1],arr[j]\n",
    "arr=array('i',[24,56,76,12,45,67,87,43,23,89])\n",
    "pairwise_swap(arr)\n",
    "print(arr)\n",
    "\n"
   ]
  },
  {
   "cell_type": "code",
   "execution_count": null,
   "id": "75d5fd39",
   "metadata": {},
   "outputs": [],
   "source": []
  }
 ],
 "metadata": {
  "kernelspec": {
   "display_name": "Python 3 (ipykernel)",
   "language": "python",
   "name": "python3"
  },
  "language_info": {
   "codemirror_mode": {
    "name": "ipython",
    "version": 3
   },
   "file_extension": ".py",
   "mimetype": "text/x-python",
   "name": "python",
   "nbconvert_exporter": "python",
   "pygments_lexer": "ipython3",
   "version": "3.11.4"
  }
 },
 "nbformat": 4,
 "nbformat_minor": 5
}
